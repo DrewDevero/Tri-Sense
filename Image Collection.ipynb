{
 "cells": [
  {
   "cell_type": "markdown",
   "id": "19f6840e",
   "metadata": {},
   "source": [
    "# 1. Import Dependencies"
   ]
  },
  {
   "cell_type": "code",
   "execution_count": 1,
   "id": "9018322f",
   "metadata": {
    "scrolled": false
   },
   "outputs": [
    {
     "name": "stdout",
     "output_type": "stream",
     "text": [
      "Requirement already satisfied: opencv-python in c:\\users\\andwe\\desktop\\per_scholas_coursework\\tri-sense\\venvgesture\\lib\\site-packages (4.5.4.60)\n",
      "Requirement already satisfied: numpy>=1.19.3 in c:\\users\\andwe\\desktop\\per_scholas_coursework\\tri-sense\\venvgesture\\lib\\site-packages (from opencv-python) (1.21.4)\n"
     ]
    }
   ],
   "source": [
    "!pip install opencv-python"
   ]
  },
  {
   "cell_type": "code",
   "execution_count": 25,
   "id": "41e864e7",
   "metadata": {},
   "outputs": [],
   "source": [
    "# import opencv overall\n",
    "import cv2\n",
    "\n",
    "#import naming convention capability\n",
    "import uuid\n",
    "\n",
    "# Import operation system for file path name conventions\n",
    "import os\n",
    "\n",
    "#import time for code running time definitions\n",
    "import time\n",
    "\n",
    "#import shutil for coipying files from one source and pasting them into a destination\n",
    "import shutil\n",
    "\n",
    "#import regular expression functionality\n",
    "import re"
   ]
  },
  {
   "cell_type": "markdown",
   "id": "ac94bd3c",
   "metadata": {},
   "source": [
    "# 2. Define Images to Collect (Already completed elsewhere - look in tri-sense\\client\\src\\images)"
   ]
  },
  {
   "cell_type": "markdown",
   "id": "ba33d403",
   "metadata": {},
   "source": [
    "# 3. Setup Folders (Already completed elsewhere - look in tri-sense\\client\\src\\images)"
   ]
  },
  {
   "cell_type": "markdown",
   "id": "30a2f942",
   "metadata": {},
   "source": [
    "# 4. Collect Images (Already completed elsewhere - look in tri-sense\\client\\src\\images)"
   ]
  },
  {
   "cell_type": "markdown",
   "id": "f62d7beb",
   "metadata": {},
   "source": [
    "# 5. Image Labeling "
   ]
  },
  {
   "cell_type": "code",
   "execution_count": 3,
   "id": "8bc1e3e3",
   "metadata": {},
   "outputs": [
    {
     "name": "stdout",
     "output_type": "stream",
     "text": [
      "Requirement already satisfied: pyqt5 in c:\\users\\andwe\\desktop\\per_scholas_coursework\\tri-sense\\venvgesture\\lib\\site-packages (5.15.6)\n",
      "Requirement already satisfied: lxml in c:\\users\\andwe\\desktop\\per_scholas_coursework\\tri-sense\\venvgesture\\lib\\site-packages (4.7.1)\n",
      "Requirement already satisfied: PyQt5-sip<13,>=12.8 in c:\\users\\andwe\\desktop\\per_scholas_coursework\\tri-sense\\venvgesture\\lib\\site-packages (from pyqt5) (12.9.0)\n",
      "Requirement already satisfied: PyQt5-Qt5>=5.15.2 in c:\\users\\andwe\\desktop\\per_scholas_coursework\\tri-sense\\venvgesture\\lib\\site-packages (from pyqt5) (5.15.2)\n"
     ]
    }
   ],
   "source": [
    "!pip install --upgrade pyqt5 lxml"
   ]
  },
  {
   "cell_type": "code",
   "execution_count": 4,
   "id": "1a7e8e63",
   "metadata": {},
   "outputs": [
    {
     "name": "stdout",
     "output_type": "stream",
     "text": [
      "Package           Version\n",
      "----------------- --------\n",
      "backcall          0.2.0\n",
      "colorama          0.4.4\n",
      "debugpy           1.5.1\n",
      "decorator         5.1.0\n",
      "entrypoints       0.3\n",
      "ipykernel         6.6.0\n",
      "ipython           7.30.1\n",
      "jedi              0.18.1\n",
      "jupyter-client    7.1.0\n",
      "jupyter-core      4.9.1\n",
      "lxml              4.7.1\n",
      "matplotlib-inline 0.1.3\n",
      "nest-asyncio      1.5.4\n",
      "numpy             1.21.4\n",
      "opencv-python     4.5.4.60\n",
      "parso             0.8.3\n",
      "pickleshare       0.7.5\n",
      "pip               21.3.1\n",
      "prompt-toolkit    3.0.24\n",
      "Pygments          2.10.0\n",
      "PyQt5             5.15.6\n",
      "PyQt5-Qt5         5.15.2\n",
      "PyQt5-sip         12.9.0\n",
      "python-dateutil   2.8.2\n",
      "pywin32           302\n",
      "pyzmq             22.3.0\n",
      "setuptools        49.2.1\n",
      "six               1.16.0\n",
      "tornado           6.1\n",
      "traitlets         5.1.1\n",
      "wcwidth           0.2.5\n"
     ]
    }
   ],
   "source": [
    "!pip list"
   ]
  },
  {
   "cell_type": "code",
   "execution_count": 23,
   "id": "c7442c43",
   "metadata": {},
   "outputs": [
    {
     "data": {
      "text/plain": [
       "'nt'"
      ]
     },
     "execution_count": 23,
     "metadata": {},
     "output_type": "execute_result"
    }
   ],
   "source": [
    "os.name"
   ]
  },
  {
   "cell_type": "code",
   "execution_count": 5,
   "id": "87719142",
   "metadata": {},
   "outputs": [],
   "source": [
    "LABELIMG_PATH = os.path.join('Tensorflow', 'labelimg')"
   ]
  },
  {
   "cell_type": "code",
   "execution_count": 25,
   "id": "41d2cb62",
   "metadata": {},
   "outputs": [],
   "source": [
    "if not os.path.exists(LABELIMG_PATH):\n",
    "    !mkdir {LABELIMG_PATH}\n",
    "    # !git clone https://github.com/tzutalin/labelImg {LABELIMG_PATH} --is not recognized here and was handled was, instead, issued through the local terminal"
   ]
  },
  {
   "cell_type": "code",
   "execution_count": 26,
   "id": "6949502b",
   "metadata": {},
   "outputs": [
    {
     "name": "stdout",
     "output_type": "stream",
     "text": [
      "Tensorflow\\labelimg\n"
     ]
    }
   ],
   "source": [
    "print(LABELIMG_PATH)"
   ]
  },
  {
   "cell_type": "code",
   "execution_count": 21,
   "id": "d9a4027a",
   "metadata": {},
   "outputs": [],
   "source": [
    "if os.name == 'posix':\n",
    "    !cd {LABELIMG_PATH} && make qt5py3\n",
    "if os.name == 'nt':\n",
    "    !cd {LABELIMG_PATH} && pyrcc5 -o libs/resources.py resources.qrc"
   ]
  },
  {
   "cell_type": "code",
   "execution_count": 6,
   "id": "cab00562",
   "metadata": {},
   "outputs": [],
   "source": [
    "!cd {LABELIMG_PATH} && python labelImg.py"
   ]
  },
  {
   "cell_type": "code",
   "execution_count": 61,
   "id": "b6c2f7d3",
   "metadata": {},
   "outputs": [],
   "source": [
    "TRAIN_PATH = os.path.join('client', 'src', 'images', '_train')\n",
    "TEST_PATH = os.path.join('client', 'src', 'images', '_test')\n",
    "IMAGES_PATH = os.path.join('client', 'src', 'images')\n",
    "chars = re.compile(r'\\b\\w\\b')\n",
    "nums = re.compile(r'\\b\\d\\b')\n",
    "with os.scandir(IMAGES_PATH) as directory:\n",
    "    for entry in directory:\n",
    "            # if entry.name is a number or character 0-9 a-z\n",
    "            # copy and paste images\n",
    "        if not os.path.exists(TRAIN_PATH) and not os.path.exists(TEST_PATH):\n",
    "            if chars.match(entry.name) or nums.match(entry.name):\n",
    "                counter = 0\n",
    "                with os.scandir(os.path.join('client', 'src', 'images', entry.name)) as character:\n",
    "                    for file in character:\n",
    "                        #copy and past images 1 through 16 to TRAIN_PATH\n",
    "                        #copy and past images 17 through 20 to TEST_PATH\n",
    "                        # use shutil.copy(source, destination)\n",
    "                        if counter < 32:\n",
    "                            shutil.copy(file, TRAIN_PATH)\n",
    "                        else:\n",
    "                            shutil.copy(file, TEST_PATH)\n",
    "                        counter+=1"
   ]
  }
 ],
 "metadata": {
  "kernelspec": {
   "display_name": "venvgesture",
   "language": "python",
   "name": "venvgesture"
  },
  "language_info": {
   "codemirror_mode": {
    "name": "ipython",
    "version": 3
   },
   "file_extension": ".py",
   "mimetype": "text/x-python",
   "name": "python",
   "nbconvert_exporter": "python",
   "pygments_lexer": "ipython3",
   "version": "3.9.0"
  }
 },
 "nbformat": 4,
 "nbformat_minor": 5
}
