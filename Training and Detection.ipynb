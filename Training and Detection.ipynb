{
 "cells": [
  {
   "cell_type": "code",
   "execution_count": null,
   "id": "0737bebf",
   "metadata": {},
   "outputs": [],
   "source": [
    "#upgrade pip as needed upon indication by pip when running scripts to ensure the best functionality of modules\n",
    "!pip install --upgrade pip"
   ]
  },
  {
   "cell_type": "code",
   "execution_count": 1,
   "id": "ccae1412",
   "metadata": {},
   "outputs": [],
   "source": [
    "import os"
   ]
  },
  {
   "cell_type": "code",
   "execution_count": 2,
   "id": "91b5b735",
   "metadata": {},
   "outputs": [],
   "source": [
    "CUSTOM_MODEL_NAME = 'my_mask_resnet'\n",
    "PRETRAINED_MODEL_NAME = 'mask_rcnn_inception_resnet_v2_1024x1024_coco17_gpu-8'\n",
    "PRETRAINED_MODEL_URL = 'http://download.tensorflow.org/models/object_detection/tf2/20200711/mask_rcnn_inception_resnet_v2_1024x1024_coco17_gpu-8.tar.gz'\n",
    "TF_RECORD_SCRIPT_NAME = 'generate_tfrecord.py'\n",
    "LABEL_MAP_NAME = 'label_map.pbtxt'"
   ]
  },
  {
   "cell_type": "code",
   "execution_count": 3,
   "id": "7d2445df",
   "metadata": {},
   "outputs": [],
   "source": [
    "paths = {\n",
    "    'WORKSPACE_PATH': os.path.join('Tensorflow', 'workspace'),\n",
    "    'SCRIPTS_PATH': os.path.join('Tensorflow', 'scripts'),\n",
    "    'APIMODEL_PATH': os.path.join('Tensorflow', 'models'), \n",
    "    'ANNOTATION_PATH': os.path.join('Tensorflow', 'workspace', 'annotations'), \n",
    "    'IMAGE_PATH': os.path.join('client', 'src', 'images'), \n",
    "    'MODEL_PATH': os.path.join('Tensorflow', 'workspace', 'models'), \n",
    "    'PRETRAINED_MODEL_PATH': os.path.join('Tensorflow', 'workspace', 'pre-trained-models'),\n",
    "    'CHECKPOINT_PATH': os.path.join('Tensorflow', 'workspace', 'models', CUSTOM_MODEL_NAME), \n",
    "    'OUTPUT_PATH': os.path.join('Tensorflow', 'workspace', 'models', CUSTOM_MODEL_NAME),  \n",
    "    'TFJS_PATH': os.path.join('Tensorflow', 'workspace', 'models', CUSTOM_MODEL_NAME),  \n",
    "    'TFLITE_PATH': os.path.join('Tensorflow', 'workspace', 'models', CUSTOM_MODEL_NAME), \n",
    "    'PROTOC_PATH': os.path.join('Tensorflow', 'protoc') \n",
    "}"
   ]
  },
  {
   "cell_type": "code",
   "execution_count": 4,
   "id": "a6bcf4ad",
   "metadata": {},
   "outputs": [
    {
     "name": "stdout",
     "output_type": "stream",
     "text": [
      "True\n"
     ]
    }
   ],
   "source": [
    "print(os.path.exists('Tensorflow'))"
   ]
  },
  {
   "cell_type": "code",
   "execution_count": null,
   "id": "5a453dfb",
   "metadata": {},
   "outputs": [],
   "source": [
    "for path in paths.values():\n",
    "    if not os.path.exists(path):\n",
    "        #for Unix and other posix compatible platforms\n",
    "        if os.name == 'posix':\n",
    "            !mkdir -p {path}\n",
    "        #for Windows\n",
    "        if os.name == 'nt':\n",
    "            !mkdir {path}"
   ]
  },
  {
   "cell_type": "code",
   "execution_count": 5,
   "id": "88507e2c",
   "metadata": {},
   "outputs": [],
   "source": [
    "files = {\n",
    "    'PIPELINE_CONFIG': os.path.join('Tensorflow', 'workspace', 'models', CUSTOM_MODEL_NAME),\n",
    "    'TF_RECORD_SCRIPT': os.path.join(paths['SCRIPTS_PATH'], TF_RECORD_SCRIPT_NAME),\n",
    "    'LABELMAP': os.path.join(paths['ANNOTATION_PATH'], LABEL_MAP_NAME)\n",
    "}"
   ]
  },
  {
   "cell_type": "code",
   "execution_count": 6,
   "id": "077fc5f9",
   "metadata": {},
   "outputs": [
    {
     "data": {
      "text/plain": [
       "{'PIPELINE_CONFIG': 'Tensorflow\\\\workspace\\\\models\\\\my_mask_resnet',\n",
       " 'TF_RECORD_SCRIPT': 'Tensorflow\\\\scripts\\\\generate_tfrecord.py',\n",
       " 'LABELMAP': 'Tensorflow\\\\workspace\\\\annotations\\\\label_map.pbtxt'}"
      ]
     },
     "execution_count": 6,
     "metadata": {},
     "output_type": "execute_result"
    }
   ],
   "source": [
    "files"
   ]
  },
  {
   "cell_type": "markdown",
   "id": "94451a80",
   "metadata": {},
   "source": [
    "# 1. Download TF Models Pretrained Models from Tensorflow Model Zoo and Install TFOD"
   ]
  },
  {
   "cell_type": "code",
   "execution_count": null,
   "id": "f90525e4",
   "metadata": {},
   "outputs": [],
   "source": [
    "# https://www.tensorflow.org/install/source_windows"
   ]
  },
  {
   "cell_type": "code",
   "execution_count": null,
   "id": "b4f1ab80",
   "metadata": {},
   "outputs": [],
   "source": [
    "if os.name == 'nt':\n",
    "    !pip install wget"
   ]
  },
  {
   "cell_type": "code",
   "execution_count": 7,
   "id": "d0addca6",
   "metadata": {},
   "outputs": [],
   "source": [
    "import wget"
   ]
  },
  {
   "cell_type": "code",
   "execution_count": null,
   "id": "06434cf5",
   "metadata": {},
   "outputs": [],
   "source": [
    "# git clone execution seen below was executed via the local terminal in order to satisfy administrative restrictions:\n",
    "\n",
    "#if not os.path.exists(os.path.join(paths['APIMODEL_PATH'], 'research', 'object_detection')):\n",
    "#    !git clone 'https://github.com/tensorflow/models' {paths['APIMODEL_PATH']}"
   ]
  },
  {
   "cell_type": "code",
   "execution_count": null,
   "id": "0434db2b",
   "metadata": {},
   "outputs": [],
   "source": [
    "#install Tensorflow object detection\n",
    "if os.name == 'posix':\n",
    "    !apt-get install protobuf-compiler\n",
    "    !cd Tensorflow/models/research && protoc object_detection/protos/*.proto --python_out=. && cp object_detection/packages/tf2/setup.py . && python -m pip install . \n",
    "    \n",
    "if os.name == 'nt':\n",
    "    url=\"https://github.com/protocolbuffers/protobuf/releases/download/v3.15.6/protoc-3.15.6-win64.zip\"\n",
    "    wget.download(url)\n",
    "    !move protoc-3.15.6-win64.zip {paths['PROTOC_PATH']}\n",
    "    !cd {paths['PROTOC_PATH']} && tar -xf protoc-3.15.6-win64.zip\n",
    "    os.environ['PATH'] += os.pathsep + os.path.abspath(os.path.join(paths['PROTOC_PATH'], 'bin'))\n",
    "    !cd Tensorflow/models/research && protoc object_detection/protos/*.proto --python_out=. && copy object_detection\\\\packages\\\\tf2\\\\setup.py setup.py && python setup.py build && python setup.py install\n",
    "    !cd Tensorflow/models/research/slim && pip install -e ."
   ]
  },
  {
   "cell_type": "code",
   "execution_count": 10,
   "id": "05414466",
   "metadata": {},
   "outputs": [
    {
     "name": "stderr",
     "output_type": "stream",
     "text": [
      "Running tests under Python 3.9.0: C:\\Users\\andwe\\Desktop\\Per_Scholas_Coursework\\tri-sense\\venvgesture\\Scripts\\python.exe\n",
      "[ RUN      ] ModelBuilderTF2Test.test_create_center_net_deepmac\n",
      "2022-02-25 17:55:54.332799: I tensorflow/core/platform/cpu_feature_guard.cc:151] This TensorFlow binary is optimized with oneAPI Deep Neural Network Library (oneDNN) to use the following CPU instructions in performance-critical operations:  AVX AVX2\n",
      "To enable them in other operations, rebuild TensorFlow with the appropriate compiler flags.\n",
      "2022-02-25 17:55:54.334521: I tensorflow/core/common_runtime/process_util.cc:146] Creating new thread pool with default inter op setting: 2. Tune using inter_op_parallelism_threads for best performance.\n",
      "C:\\Users\\andwe\\Desktop\\Per_Scholas_Coursework\\tri-sense\\venvgesture\\lib\\site-packages\\object_detection-0.1-py3.9.egg\\object_detection\\builders\\model_builder.py:1100: DeprecationWarning: The 'warn' function is deprecated, use 'warning' instead\n",
      "  logging.warn(('Building experimental DeepMAC meta-arch.'\n",
      "W0225 17:55:54.516204  7208 model_builder.py:1100] Building experimental DeepMAC meta-arch. Some features may be omitted.\n",
      "INFO:tensorflow:time(__main__.ModelBuilderTF2Test.test_create_center_net_deepmac): 0.49s\n",
      "I0225 17:55:54.800904  7208 test_util.py:2308] time(__main__.ModelBuilderTF2Test.test_create_center_net_deepmac): 0.49s\n",
      "[       OK ] ModelBuilderTF2Test.test_create_center_net_deepmac\n",
      "[ RUN      ] ModelBuilderTF2Test.test_create_center_net_model0 (customize_head_params=True)\n",
      "INFO:tensorflow:time(__main__.ModelBuilderTF2Test.test_create_center_net_model0 (customize_head_params=True)): 1.07s\n",
      "I0225 17:55:55.874447  7208 test_util.py:2308] time(__main__.ModelBuilderTF2Test.test_create_center_net_model0 (customize_head_params=True)): 1.07s\n",
      "[       OK ] ModelBuilderTF2Test.test_create_center_net_model0 (customize_head_params=True)\n",
      "[ RUN      ] ModelBuilderTF2Test.test_create_center_net_model1 (customize_head_params=False)\n",
      "INFO:tensorflow:time(__main__.ModelBuilderTF2Test.test_create_center_net_model1 (customize_head_params=False)): 0.22s\n",
      "I0225 17:55:56.093146  7208 test_util.py:2308] time(__main__.ModelBuilderTF2Test.test_create_center_net_model1 (customize_head_params=False)): 0.22s\n",
      "[       OK ] ModelBuilderTF2Test.test_create_center_net_model1 (customize_head_params=False)\n",
      "[ RUN      ] ModelBuilderTF2Test.test_create_center_net_model_from_keypoints\n",
      "INFO:tensorflow:time(__main__.ModelBuilderTF2Test.test_create_center_net_model_from_keypoints): 0.2s\n",
      "I0225 17:55:56.292701  7208 test_util.py:2308] time(__main__.ModelBuilderTF2Test.test_create_center_net_model_from_keypoints): 0.2s\n",
      "[       OK ] ModelBuilderTF2Test.test_create_center_net_model_from_keypoints\n",
      "[ RUN      ] ModelBuilderTF2Test.test_create_center_net_model_mobilenet\n",
      "INFO:tensorflow:time(__main__.ModelBuilderTF2Test.test_create_center_net_model_mobilenet): 1.63s\n",
      "I0225 17:55:57.924486  7208 test_util.py:2308] time(__main__.ModelBuilderTF2Test.test_create_center_net_model_mobilenet): 1.63s\n",
      "[       OK ] ModelBuilderTF2Test.test_create_center_net_model_mobilenet\n",
      "[ RUN      ] ModelBuilderTF2Test.test_create_experimental_model\n",
      "INFO:tensorflow:time(__main__.ModelBuilderTF2Test.test_create_experimental_model): 0.0s\n",
      "I0225 17:55:57.924486  7208 test_util.py:2308] time(__main__.ModelBuilderTF2Test.test_create_experimental_model): 0.0s\n",
      "[       OK ] ModelBuilderTF2Test.test_create_experimental_model\n",
      "[ RUN      ] ModelBuilderTF2Test.test_create_faster_rcnn_from_config_with_crop_feature0 (True)\n",
      "INFO:tensorflow:time(__main__.ModelBuilderTF2Test.test_create_faster_rcnn_from_config_with_crop_feature0 (True)): 0.02s\n",
      "I0225 17:55:57.940107  7208 test_util.py:2308] time(__main__.ModelBuilderTF2Test.test_create_faster_rcnn_from_config_with_crop_feature0 (True)): 0.02s\n",
      "[       OK ] ModelBuilderTF2Test.test_create_faster_rcnn_from_config_with_crop_feature0 (True)\n",
      "[ RUN      ] ModelBuilderTF2Test.test_create_faster_rcnn_from_config_with_crop_feature1 (False)\n",
      "INFO:tensorflow:time(__main__.ModelBuilderTF2Test.test_create_faster_rcnn_from_config_with_crop_feature1 (False)): 0.0s\n",
      "I0225 17:55:57.955729  7208 test_util.py:2308] time(__main__.ModelBuilderTF2Test.test_create_faster_rcnn_from_config_with_crop_feature1 (False)): 0.0s\n",
      "[       OK ] ModelBuilderTF2Test.test_create_faster_rcnn_from_config_with_crop_feature1 (False)\n",
      "[ RUN      ] ModelBuilderTF2Test.test_create_faster_rcnn_model_from_config_with_example_miner\n",
      "INFO:tensorflow:time(__main__.ModelBuilderTF2Test.test_create_faster_rcnn_model_from_config_with_example_miner): 0.02s\n",
      "I0225 17:55:57.971349  7208 test_util.py:2308] time(__main__.ModelBuilderTF2Test.test_create_faster_rcnn_model_from_config_with_example_miner): 0.02s\n",
      "[       OK ] ModelBuilderTF2Test.test_create_faster_rcnn_model_from_config_with_example_miner\n",
      "[ RUN      ] ModelBuilderTF2Test.test_create_faster_rcnn_models_from_config_faster_rcnn_with_matmul\n",
      "INFO:tensorflow:time(__main__.ModelBuilderTF2Test.test_create_faster_rcnn_models_from_config_faster_rcnn_with_matmul): 0.08s\n",
      "I0225 17:55:58.049461  7208 test_util.py:2308] time(__main__.ModelBuilderTF2Test.test_create_faster_rcnn_models_from_config_faster_rcnn_with_matmul): 0.08s\n",
      "[       OK ] ModelBuilderTF2Test.test_create_faster_rcnn_models_from_config_faster_rcnn_with_matmul\n",
      "[ RUN      ] ModelBuilderTF2Test.test_create_faster_rcnn_models_from_config_faster_rcnn_without_matmul\n",
      "INFO:tensorflow:time(__main__.ModelBuilderTF2Test.test_create_faster_rcnn_models_from_config_faster_rcnn_without_matmul): 0.08s\n",
      "I0225 17:55:58.127562  7208 test_util.py:2308] time(__main__.ModelBuilderTF2Test.test_create_faster_rcnn_models_from_config_faster_rcnn_without_matmul): 0.08s\n",
      "[       OK ] ModelBuilderTF2Test.test_create_faster_rcnn_models_from_config_faster_rcnn_without_matmul\n",
      "[ RUN      ] ModelBuilderTF2Test.test_create_faster_rcnn_models_from_config_mask_rcnn_with_matmul\n",
      "INFO:tensorflow:time(__main__.ModelBuilderTF2Test.test_create_faster_rcnn_models_from_config_mask_rcnn_with_matmul): 0.08s\n",
      "I0225 17:55:58.205670  7208 test_util.py:2308] time(__main__.ModelBuilderTF2Test.test_create_faster_rcnn_models_from_config_mask_rcnn_with_matmul): 0.08s\n",
      "[       OK ] ModelBuilderTF2Test.test_create_faster_rcnn_models_from_config_mask_rcnn_with_matmul\n",
      "[ RUN      ] ModelBuilderTF2Test.test_create_faster_rcnn_models_from_config_mask_rcnn_without_matmul\n",
      "INFO:tensorflow:time(__main__.ModelBuilderTF2Test.test_create_faster_rcnn_models_from_config_mask_rcnn_without_matmul): 0.08s\n",
      "I0225 17:55:58.283777  7208 test_util.py:2308] time(__main__.ModelBuilderTF2Test.test_create_faster_rcnn_models_from_config_mask_rcnn_without_matmul): 0.08s\n",
      "[       OK ] ModelBuilderTF2Test.test_create_faster_rcnn_models_from_config_mask_rcnn_without_matmul\n",
      "[ RUN      ] ModelBuilderTF2Test.test_create_rfcn_model_from_config\n",
      "INFO:tensorflow:time(__main__.ModelBuilderTF2Test.test_create_rfcn_model_from_config): 0.08s\n",
      "I0225 17:55:58.364250  7208 test_util.py:2308] time(__main__.ModelBuilderTF2Test.test_create_rfcn_model_from_config): 0.08s\n",
      "[       OK ] ModelBuilderTF2Test.test_create_rfcn_model_from_config\n",
      "[ RUN      ] ModelBuilderTF2Test.test_create_ssd_fpn_model_from_config\n",
      "INFO:tensorflow:time(__main__.ModelBuilderTF2Test.test_create_ssd_fpn_model_from_config): 0.02s\n",
      "I0225 17:55:58.386230  7208 test_util.py:2308] time(__main__.ModelBuilderTF2Test.test_create_ssd_fpn_model_from_config): 0.02s\n",
      "[       OK ] ModelBuilderTF2Test.test_create_ssd_fpn_model_from_config\n",
      "[ RUN      ] ModelBuilderTF2Test.test_create_ssd_models_from_config\n",
      "I0225 17:55:58.520584  7208 ssd_efficientnet_bifpn_feature_extractor.py:142] EfficientDet EfficientNet backbone version: efficientnet-b0\n",
      "I0225 17:55:58.520584  7208 ssd_efficientnet_bifpn_feature_extractor.py:144] EfficientDet BiFPN num filters: 64\n",
      "I0225 17:55:58.520584  7208 ssd_efficientnet_bifpn_feature_extractor.py:145] EfficientDet BiFPN num iterations: 3\n",
      "I0225 17:55:58.520584  7208 efficientnet_model.py:147] round_filter input=32 output=32\n",
      "I0225 17:55:58.536211  7208 efficientnet_model.py:147] round_filter input=32 output=32\n",
      "I0225 17:55:58.536211  7208 efficientnet_model.py:147] round_filter input=16 output=16\n",
      "I0225 17:55:58.583073  7208 efficientnet_model.py:147] round_filter input=16 output=16\n",
      "I0225 17:55:58.583073  7208 efficientnet_model.py:147] round_filter input=24 output=24\n",
      "I0225 17:55:58.801728  7208 efficientnet_model.py:147] round_filter input=24 output=24\n",
      "I0225 17:55:58.801728  7208 efficientnet_model.py:147] round_filter input=40 output=40\n",
      "I0225 17:55:58.935863  7208 efficientnet_model.py:147] round_filter input=40 output=40\n",
      "I0225 17:55:58.935863  7208 efficientnet_model.py:147] round_filter input=80 output=80\n",
      "I0225 17:55:59.147996  7208 efficientnet_model.py:147] round_filter input=80 output=80\n",
      "I0225 17:55:59.147996  7208 efficientnet_model.py:147] round_filter input=112 output=112\n",
      "I0225 17:55:59.351077  7208 efficientnet_model.py:147] round_filter input=112 output=112\n",
      "I0225 17:55:59.351077  7208 efficientnet_model.py:147] round_filter input=192 output=192\n",
      "I0225 17:55:59.651411  7208 efficientnet_model.py:147] round_filter input=192 output=192\n",
      "I0225 17:55:59.651411  7208 efficientnet_model.py:147] round_filter input=320 output=320\n",
      "I0225 17:55:59.713862  7208 efficientnet_model.py:147] round_filter input=1280 output=1280\n",
      "I0225 17:55:59.760756  7208 efficientnet_model.py:457] Building model efficientnet with params ModelConfig(width_coefficient=1.0, depth_coefficient=1.0, resolution=224, dropout_rate=0.2, blocks=(BlockConfig(input_filters=32, output_filters=16, kernel_size=3, num_repeat=1, expand_ratio=1, strides=(1, 1), se_ratio=0.25, id_skip=True, fused_conv=False, conv_type='depthwise'), BlockConfig(input_filters=16, output_filters=24, kernel_size=3, num_repeat=2, expand_ratio=6, strides=(2, 2), se_ratio=0.25, id_skip=True, fused_conv=False, conv_type='depthwise'), BlockConfig(input_filters=24, output_filters=40, kernel_size=5, num_repeat=2, expand_ratio=6, strides=(2, 2), se_ratio=0.25, id_skip=True, fused_conv=False, conv_type='depthwise'), BlockConfig(input_filters=40, output_filters=80, kernel_size=3, num_repeat=3, expand_ratio=6, strides=(2, 2), se_ratio=0.25, id_skip=True, fused_conv=False, conv_type='depthwise'), BlockConfig(input_filters=80, output_filters=112, kernel_size=5, num_repeat=3, expand_ratio=6, strides=(1, 1), se_ratio=0.25, id_skip=True, fused_conv=False, conv_type='depthwise'), BlockConfig(input_filters=112, output_filters=192, kernel_size=5, num_repeat=4, expand_ratio=6, strides=(2, 2), se_ratio=0.25, id_skip=True, fused_conv=False, conv_type='depthwise'), BlockConfig(input_filters=192, output_filters=320, kernel_size=3, num_repeat=1, expand_ratio=6, strides=(1, 1), se_ratio=0.25, id_skip=True, fused_conv=False, conv_type='depthwise')), stem_base_filters=32, top_base_filters=1280, activation='simple_swish', batch_norm='default', bn_momentum=0.99, bn_epsilon=0.001, weight_decay=5e-06, drop_connect_rate=0.2, depth_divisor=8, min_depth=None, use_se=True, input_channels=3, num_classes=1000, model_name='efficientnet', rescale_input=False, data_format='channels_last', dtype='float32')\n",
      "I0225 17:55:59.792004  7208 ssd_efficientnet_bifpn_feature_extractor.py:142] EfficientDet EfficientNet backbone version: efficientnet-b1\n",
      "I0225 17:55:59.792004  7208 ssd_efficientnet_bifpn_feature_extractor.py:144] EfficientDet BiFPN num filters: 88\n",
      "I0225 17:55:59.792004  7208 ssd_efficientnet_bifpn_feature_extractor.py:145] EfficientDet BiFPN num iterations: 4\n",
      "I0225 17:55:59.792004  7208 efficientnet_model.py:147] round_filter input=32 output=32\n",
      "I0225 17:55:59.807625  7208 efficientnet_model.py:147] round_filter input=32 output=32\n",
      "I0225 17:55:59.807625  7208 efficientnet_model.py:147] round_filter input=16 output=16\n",
      "I0225 17:55:59.901359  7208 efficientnet_model.py:147] round_filter input=16 output=16\n",
      "I0225 17:55:59.901359  7208 efficientnet_model.py:147] round_filter input=24 output=24\n",
      "I0225 17:56:00.090528  7208 efficientnet_model.py:147] round_filter input=24 output=24\n",
      "I0225 17:56:00.090528  7208 efficientnet_model.py:147] round_filter input=40 output=40\n",
      "I0225 17:56:00.262324  7208 efficientnet_model.py:147] round_filter input=40 output=40\n",
      "I0225 17:56:00.262324  7208 efficientnet_model.py:147] round_filter input=80 output=80\n",
      "I0225 17:56:00.516065  7208 efficientnet_model.py:147] round_filter input=80 output=80\n",
      "I0225 17:56:00.516065  7208 efficientnet_model.py:147] round_filter input=112 output=112\n",
      "I0225 17:56:00.815311  7208 efficientnet_model.py:147] round_filter input=112 output=112\n",
      "I0225 17:56:00.815311  7208 efficientnet_model.py:147] round_filter input=192 output=192\n",
      "I0225 17:56:01.191993  7208 efficientnet_model.py:147] round_filter input=192 output=192\n",
      "I0225 17:56:01.191993  7208 efficientnet_model.py:147] round_filter input=320 output=320\n",
      "I0225 17:56:01.363819  7208 efficientnet_model.py:147] round_filter input=1280 output=1280\n",
      "I0225 17:56:01.395020  7208 efficientnet_model.py:457] Building model efficientnet with params ModelConfig(width_coefficient=1.0, depth_coefficient=1.1, resolution=240, dropout_rate=0.2, blocks=(BlockConfig(input_filters=32, output_filters=16, kernel_size=3, num_repeat=1, expand_ratio=1, strides=(1, 1), se_ratio=0.25, id_skip=True, fused_conv=False, conv_type='depthwise'), BlockConfig(input_filters=16, output_filters=24, kernel_size=3, num_repeat=2, expand_ratio=6, strides=(2, 2), se_ratio=0.25, id_skip=True, fused_conv=False, conv_type='depthwise'), BlockConfig(input_filters=24, output_filters=40, kernel_size=5, num_repeat=2, expand_ratio=6, strides=(2, 2), se_ratio=0.25, id_skip=True, fused_conv=False, conv_type='depthwise'), BlockConfig(input_filters=40, output_filters=80, kernel_size=3, num_repeat=3, expand_ratio=6, strides=(2, 2), se_ratio=0.25, id_skip=True, fused_conv=False, conv_type='depthwise'), BlockConfig(input_filters=80, output_filters=112, kernel_size=5, num_repeat=3, expand_ratio=6, strides=(1, 1), se_ratio=0.25, id_skip=True, fused_conv=False, conv_type='depthwise'), BlockConfig(input_filters=112, output_filters=192, kernel_size=5, num_repeat=4, expand_ratio=6, strides=(2, 2), se_ratio=0.25, id_skip=True, fused_conv=False, conv_type='depthwise'), BlockConfig(input_filters=192, output_filters=320, kernel_size=3, num_repeat=1, expand_ratio=6, strides=(1, 1), se_ratio=0.25, id_skip=True, fused_conv=False, conv_type='depthwise')), stem_base_filters=32, top_base_filters=1280, activation='simple_swish', batch_norm='default', bn_momentum=0.99, bn_epsilon=0.001, weight_decay=5e-06, drop_connect_rate=0.2, depth_divisor=8, min_depth=None, use_se=True, input_channels=3, num_classes=1000, model_name='efficientnet', rescale_input=False, data_format='channels_last', dtype='float32')\n",
      "I0225 17:56:01.441924  7208 ssd_efficientnet_bifpn_feature_extractor.py:142] EfficientDet EfficientNet backbone version: efficientnet-b2\n",
      "I0225 17:56:01.441924  7208 ssd_efficientnet_bifpn_feature_extractor.py:144] EfficientDet BiFPN num filters: 112\n",
      "I0225 17:56:01.441924  7208 ssd_efficientnet_bifpn_feature_extractor.py:145] EfficientDet BiFPN num iterations: 5\n",
      "I0225 17:56:01.441924  7208 efficientnet_model.py:147] round_filter input=32 output=32\n",
      "I0225 17:56:01.457550  7208 efficientnet_model.py:147] round_filter input=32 output=32\n",
      "I0225 17:56:01.457550  7208 efficientnet_model.py:147] round_filter input=16 output=16\n",
      "I0225 17:56:01.558629  7208 efficientnet_model.py:147] round_filter input=16 output=16\n",
      "I0225 17:56:01.558629  7208 efficientnet_model.py:147] round_filter input=24 output=24\n",
      "I0225 17:56:01.727742  7208 efficientnet_model.py:147] round_filter input=24 output=24\n",
      "I0225 17:56:01.727742  7208 efficientnet_model.py:147] round_filter input=40 output=48\n",
      "I0225 17:56:02.024548  7208 efficientnet_model.py:147] round_filter input=40 output=48\n",
      "I0225 17:56:02.024548  7208 efficientnet_model.py:147] round_filter input=80 output=88\n",
      "I0225 17:56:02.287271  7208 efficientnet_model.py:147] round_filter input=80 output=88\n",
      "I0225 17:56:02.287271  7208 efficientnet_model.py:147] round_filter input=112 output=120\n",
      "I0225 17:56:02.553648  7208 efficientnet_model.py:147] round_filter input=112 output=120\n",
      "I0225 17:56:02.553648  7208 efficientnet_model.py:147] round_filter input=192 output=208\n",
      "I0225 17:56:02.945901  7208 efficientnet_model.py:147] round_filter input=192 output=208\n",
      "I0225 17:56:02.945901  7208 efficientnet_model.py:147] round_filter input=320 output=352\n",
      "I0225 17:56:03.126686  7208 efficientnet_model.py:147] round_filter input=1280 output=1408\n",
      "I0225 17:56:03.166585  7208 efficientnet_model.py:457] Building model efficientnet with params ModelConfig(width_coefficient=1.1, depth_coefficient=1.2, resolution=260, dropout_rate=0.3, blocks=(BlockConfig(input_filters=32, output_filters=16, kernel_size=3, num_repeat=1, expand_ratio=1, strides=(1, 1), se_ratio=0.25, id_skip=True, fused_conv=False, conv_type='depthwise'), BlockConfig(input_filters=16, output_filters=24, kernel_size=3, num_repeat=2, expand_ratio=6, strides=(2, 2), se_ratio=0.25, id_skip=True, fused_conv=False, conv_type='depthwise'), BlockConfig(input_filters=24, output_filters=40, kernel_size=5, num_repeat=2, expand_ratio=6, strides=(2, 2), se_ratio=0.25, id_skip=True, fused_conv=False, conv_type='depthwise'), BlockConfig(input_filters=40, output_filters=80, kernel_size=3, num_repeat=3, expand_ratio=6, strides=(2, 2), se_ratio=0.25, id_skip=True, fused_conv=False, conv_type='depthwise'), BlockConfig(input_filters=80, output_filters=112, kernel_size=5, num_repeat=3, expand_ratio=6, strides=(1, 1), se_ratio=0.25, id_skip=True, fused_conv=False, conv_type='depthwise'), BlockConfig(input_filters=112, output_filters=192, kernel_size=5, num_repeat=4, expand_ratio=6, strides=(2, 2), se_ratio=0.25, id_skip=True, fused_conv=False, conv_type='depthwise'), BlockConfig(input_filters=192, output_filters=320, kernel_size=3, num_repeat=1, expand_ratio=6, strides=(1, 1), se_ratio=0.25, id_skip=True, fused_conv=False, conv_type='depthwise')), stem_base_filters=32, top_base_filters=1280, activation='simple_swish', batch_norm='default', bn_momentum=0.99, bn_epsilon=0.001, weight_decay=5e-06, drop_connect_rate=0.2, depth_divisor=8, min_depth=None, use_se=True, input_channels=3, num_classes=1000, model_name='efficientnet', rescale_input=False, data_format='channels_last', dtype='float32')\n",
      "I0225 17:56:03.213449  7208 ssd_efficientnet_bifpn_feature_extractor.py:142] EfficientDet EfficientNet backbone version: efficientnet-b3\n",
      "I0225 17:56:03.213449  7208 ssd_efficientnet_bifpn_feature_extractor.py:144] EfficientDet BiFPN num filters: 160\n",
      "I0225 17:56:03.213449  7208 ssd_efficientnet_bifpn_feature_extractor.py:145] EfficientDet BiFPN num iterations: 6\n",
      "I0225 17:56:03.229071  7208 efficientnet_model.py:147] round_filter input=32 output=40\n",
      "I0225 17:56:03.229071  7208 efficientnet_model.py:147] round_filter input=32 output=40\n",
      "I0225 17:56:03.229071  7208 efficientnet_model.py:147] round_filter input=16 output=24\n",
      "I0225 17:56:03.322800  7208 efficientnet_model.py:147] round_filter input=16 output=24\n",
      "I0225 17:56:03.322800  7208 efficientnet_model.py:147] round_filter input=24 output=32\n",
      "I0225 17:56:03.498719  7208 efficientnet_model.py:147] round_filter input=24 output=32\n",
      "I0225 17:56:03.498719  7208 efficientnet_model.py:147] round_filter input=40 output=48\n",
      "I0225 17:56:03.690865  7208 efficientnet_model.py:147] round_filter input=40 output=48\n",
      "I0225 17:56:03.690865  7208 efficientnet_model.py:147] round_filter input=80 output=96\n",
      "I0225 17:56:03.998487  7208 efficientnet_model.py:147] round_filter input=80 output=96\n",
      "I0225 17:56:03.998487  7208 efficientnet_model.py:147] round_filter input=112 output=136\n",
      "I0225 17:56:04.345014  7208 efficientnet_model.py:147] round_filter input=112 output=136\n",
      "I0225 17:56:04.345014  7208 efficientnet_model.py:147] round_filter input=192 output=232\n",
      "I0225 17:56:04.816554  7208 efficientnet_model.py:147] round_filter input=192 output=232\n",
      "I0225 17:56:04.816554  7208 efficientnet_model.py:147] round_filter input=320 output=384\n",
      "I0225 17:56:05.019632  7208 efficientnet_model.py:147] round_filter input=1280 output=1536\n",
      "I0225 17:56:05.066461  7208 efficientnet_model.py:457] Building model efficientnet with params ModelConfig(width_coefficient=1.2, depth_coefficient=1.4, resolution=300, dropout_rate=0.3, blocks=(BlockConfig(input_filters=32, output_filters=16, kernel_size=3, num_repeat=1, expand_ratio=1, strides=(1, 1), se_ratio=0.25, id_skip=True, fused_conv=False, conv_type='depthwise'), BlockConfig(input_filters=16, output_filters=24, kernel_size=3, num_repeat=2, expand_ratio=6, strides=(2, 2), se_ratio=0.25, id_skip=True, fused_conv=False, conv_type='depthwise'), BlockConfig(input_filters=24, output_filters=40, kernel_size=5, num_repeat=2, expand_ratio=6, strides=(2, 2), se_ratio=0.25, id_skip=True, fused_conv=False, conv_type='depthwise'), BlockConfig(input_filters=40, output_filters=80, kernel_size=3, num_repeat=3, expand_ratio=6, strides=(2, 2), se_ratio=0.25, id_skip=True, fused_conv=False, conv_type='depthwise'), BlockConfig(input_filters=80, output_filters=112, kernel_size=5, num_repeat=3, expand_ratio=6, strides=(1, 1), se_ratio=0.25, id_skip=True, fused_conv=False, conv_type='depthwise'), BlockConfig(input_filters=112, output_filters=192, kernel_size=5, num_repeat=4, expand_ratio=6, strides=(2, 2), se_ratio=0.25, id_skip=True, fused_conv=False, conv_type='depthwise'), BlockConfig(input_filters=192, output_filters=320, kernel_size=3, num_repeat=1, expand_ratio=6, strides=(1, 1), se_ratio=0.25, id_skip=True, fused_conv=False, conv_type='depthwise')), stem_base_filters=32, top_base_filters=1280, activation='simple_swish', batch_norm='default', bn_momentum=0.99, bn_epsilon=0.001, weight_decay=5e-06, drop_connect_rate=0.2, depth_divisor=8, min_depth=None, use_se=True, input_channels=3, num_classes=1000, model_name='efficientnet', rescale_input=False, data_format='channels_last', dtype='float32')\n",
      "I0225 17:56:05.128995  7208 ssd_efficientnet_bifpn_feature_extractor.py:142] EfficientDet EfficientNet backbone version: efficientnet-b4\n",
      "I0225 17:56:05.128995  7208 ssd_efficientnet_bifpn_feature_extractor.py:144] EfficientDet BiFPN num filters: 224\n",
      "I0225 17:56:05.128995  7208 ssd_efficientnet_bifpn_feature_extractor.py:145] EfficientDet BiFPN num iterations: 7\n",
      "I0225 17:56:05.128995  7208 efficientnet_model.py:147] round_filter input=32 output=48\n",
      "I0225 17:56:05.128995  7208 efficientnet_model.py:147] round_filter input=32 output=48\n",
      "I0225 17:56:05.128995  7208 efficientnet_model.py:147] round_filter input=16 output=24\n",
      "I0225 17:56:05.222714  7208 efficientnet_model.py:147] round_filter input=16 output=24\n",
      "I0225 17:56:05.238344  7208 efficientnet_model.py:147] round_filter input=24 output=32\n",
      "I0225 17:56:05.474107  7208 efficientnet_model.py:147] round_filter input=24 output=32\n",
      "I0225 17:56:05.474107  7208 efficientnet_model.py:147] round_filter input=40 output=56\n",
      "I0225 17:56:05.898408  7208 efficientnet_model.py:147] round_filter input=40 output=56\n",
      "I0225 17:56:05.898408  7208 efficientnet_model.py:147] round_filter input=80 output=112\n",
      "I0225 17:56:06.304561  7208 efficientnet_model.py:147] round_filter input=80 output=112\n",
      "I0225 17:56:06.304561  7208 efficientnet_model.py:147] round_filter input=112 output=160\n",
      "I0225 17:56:06.714256  7208 efficientnet_model.py:147] round_filter input=112 output=160\n",
      "I0225 17:56:06.714256  7208 efficientnet_model.py:147] round_filter input=192 output=272\n",
      "I0225 17:56:07.421879  7208 efficientnet_model.py:147] round_filter input=192 output=272\n",
      "I0225 17:56:07.421879  7208 efficientnet_model.py:147] round_filter input=320 output=448\n",
      "I0225 17:56:07.624994  7208 efficientnet_model.py:147] round_filter input=1280 output=1792\n",
      "I0225 17:56:07.687487  7208 efficientnet_model.py:457] Building model efficientnet with params ModelConfig(width_coefficient=1.4, depth_coefficient=1.8, resolution=380, dropout_rate=0.4, blocks=(BlockConfig(input_filters=32, output_filters=16, kernel_size=3, num_repeat=1, expand_ratio=1, strides=(1, 1), se_ratio=0.25, id_skip=True, fused_conv=False, conv_type='depthwise'), BlockConfig(input_filters=16, output_filters=24, kernel_size=3, num_repeat=2, expand_ratio=6, strides=(2, 2), se_ratio=0.25, id_skip=True, fused_conv=False, conv_type='depthwise'), BlockConfig(input_filters=24, output_filters=40, kernel_size=5, num_repeat=2, expand_ratio=6, strides=(2, 2), se_ratio=0.25, id_skip=True, fused_conv=False, conv_type='depthwise'), BlockConfig(input_filters=40, output_filters=80, kernel_size=3, num_repeat=3, expand_ratio=6, strides=(2, 2), se_ratio=0.25, id_skip=True, fused_conv=False, conv_type='depthwise'), BlockConfig(input_filters=80, output_filters=112, kernel_size=5, num_repeat=3, expand_ratio=6, strides=(1, 1), se_ratio=0.25, id_skip=True, fused_conv=False, conv_type='depthwise'), BlockConfig(input_filters=112, output_filters=192, kernel_size=5, num_repeat=4, expand_ratio=6, strides=(2, 2), se_ratio=0.25, id_skip=True, fused_conv=False, conv_type='depthwise'), BlockConfig(input_filters=192, output_filters=320, kernel_size=3, num_repeat=1, expand_ratio=6, strides=(1, 1), se_ratio=0.25, id_skip=True, fused_conv=False, conv_type='depthwise')), stem_base_filters=32, top_base_filters=1280, activation='simple_swish', batch_norm='default', bn_momentum=0.99, bn_epsilon=0.001, weight_decay=5e-06, drop_connect_rate=0.2, depth_divisor=8, min_depth=None, use_se=True, input_channels=3, num_classes=1000, model_name='efficientnet', rescale_input=False, data_format='channels_last', dtype='float32')\n",
      "I0225 17:56:07.749972  7208 ssd_efficientnet_bifpn_feature_extractor.py:142] EfficientDet EfficientNet backbone version: efficientnet-b5\n",
      "I0225 17:56:07.749972  7208 ssd_efficientnet_bifpn_feature_extractor.py:144] EfficientDet BiFPN num filters: 288\n",
      "I0225 17:56:07.749972  7208 ssd_efficientnet_bifpn_feature_extractor.py:145] EfficientDet BiFPN num iterations: 7\n",
      "I0225 17:56:07.749972  7208 efficientnet_model.py:147] round_filter input=32 output=48\n",
      "I0225 17:56:07.749972  7208 efficientnet_model.py:147] round_filter input=32 output=48\n",
      "I0225 17:56:07.749972  7208 efficientnet_model.py:147] round_filter input=16 output=24\n",
      "I0225 17:56:07.890563  7208 efficientnet_model.py:147] round_filter input=16 output=24\n",
      "I0225 17:56:07.890563  7208 efficientnet_model.py:147] round_filter input=24 output=40\n",
      "I0225 17:56:08.189878  7208 efficientnet_model.py:147] round_filter input=24 output=40\n",
      "I0225 17:56:08.189878  7208 efficientnet_model.py:147] round_filter input=40 output=64\n",
      "I0225 17:56:08.504838  7208 efficientnet_model.py:147] round_filter input=40 output=64\n",
      "I0225 17:56:08.504838  7208 efficientnet_model.py:147] round_filter input=80 output=128\n",
      "I0225 17:56:08.971947  7208 efficientnet_model.py:147] round_filter input=80 output=128\n",
      "I0225 17:56:08.971947  7208 efficientnet_model.py:147] round_filter input=112 output=176\n",
      "I0225 17:56:09.459965  7208 efficientnet_model.py:147] round_filter input=112 output=176\n",
      "I0225 17:56:09.459965  7208 efficientnet_model.py:147] round_filter input=192 output=304\n",
      "I0225 17:56:10.402309  7208 efficientnet_model.py:147] round_filter input=192 output=304\n",
      "I0225 17:56:10.402309  7208 efficientnet_model.py:147] round_filter input=320 output=512\n",
      "I0225 17:56:10.778087  7208 efficientnet_model.py:147] round_filter input=1280 output=2048\n",
      "I0225 17:56:10.826764  7208 efficientnet_model.py:457] Building model efficientnet with params ModelConfig(width_coefficient=1.6, depth_coefficient=2.2, resolution=456, dropout_rate=0.4, blocks=(BlockConfig(input_filters=32, output_filters=16, kernel_size=3, num_repeat=1, expand_ratio=1, strides=(1, 1), se_ratio=0.25, id_skip=True, fused_conv=False, conv_type='depthwise'), BlockConfig(input_filters=16, output_filters=24, kernel_size=3, num_repeat=2, expand_ratio=6, strides=(2, 2), se_ratio=0.25, id_skip=True, fused_conv=False, conv_type='depthwise'), BlockConfig(input_filters=24, output_filters=40, kernel_size=5, num_repeat=2, expand_ratio=6, strides=(2, 2), se_ratio=0.25, id_skip=True, fused_conv=False, conv_type='depthwise'), BlockConfig(input_filters=40, output_filters=80, kernel_size=3, num_repeat=3, expand_ratio=6, strides=(2, 2), se_ratio=0.25, id_skip=True, fused_conv=False, conv_type='depthwise'), BlockConfig(input_filters=80, output_filters=112, kernel_size=5, num_repeat=3, expand_ratio=6, strides=(1, 1), se_ratio=0.25, id_skip=True, fused_conv=False, conv_type='depthwise'), BlockConfig(input_filters=112, output_filters=192, kernel_size=5, num_repeat=4, expand_ratio=6, strides=(2, 2), se_ratio=0.25, id_skip=True, fused_conv=False, conv_type='depthwise'), BlockConfig(input_filters=192, output_filters=320, kernel_size=3, num_repeat=1, expand_ratio=6, strides=(1, 1), se_ratio=0.25, id_skip=True, fused_conv=False, conv_type='depthwise')), stem_base_filters=32, top_base_filters=1280, activation='simple_swish', batch_norm='default', bn_momentum=0.99, bn_epsilon=0.001, weight_decay=5e-06, drop_connect_rate=0.2, depth_divisor=8, min_depth=None, use_se=True, input_channels=3, num_classes=1000, model_name='efficientnet', rescale_input=False, data_format='channels_last', dtype='float32')\n",
      "I0225 17:56:10.904930  7208 ssd_efficientnet_bifpn_feature_extractor.py:142] EfficientDet EfficientNet backbone version: efficientnet-b6\n",
      "I0225 17:56:10.904930  7208 ssd_efficientnet_bifpn_feature_extractor.py:144] EfficientDet BiFPN num filters: 384\n",
      "I0225 17:56:10.904930  7208 ssd_efficientnet_bifpn_feature_extractor.py:145] EfficientDet BiFPN num iterations: 8\n",
      "I0225 17:56:10.904930  7208 efficientnet_model.py:147] round_filter input=32 output=56\n",
      "I0225 17:56:10.920549  7208 efficientnet_model.py:147] round_filter input=32 output=56\n",
      "I0225 17:56:10.920549  7208 efficientnet_model.py:147] round_filter input=16 output=32\n",
      "I0225 17:56:11.057830  7208 efficientnet_model.py:147] round_filter input=16 output=32\n",
      "I0225 17:56:11.057830  7208 efficientnet_model.py:147] round_filter input=24 output=40\n",
      "I0225 17:56:11.434181  7208 efficientnet_model.py:147] round_filter input=24 output=40\n",
      "I0225 17:56:11.434181  7208 efficientnet_model.py:147] round_filter input=40 output=72\n",
      "I0225 17:56:11.799696  7208 efficientnet_model.py:147] round_filter input=40 output=72\n",
      "I0225 17:56:11.799696  7208 efficientnet_model.py:147] round_filter input=80 output=144\n",
      "I0225 17:56:12.365505  7208 efficientnet_model.py:147] round_filter input=80 output=144\n",
      "I0225 17:56:12.365505  7208 efficientnet_model.py:147] round_filter input=112 output=200\n",
      "I0225 17:56:12.987981  7208 efficientnet_model.py:147] round_filter input=112 output=200\n",
      "I0225 17:56:12.987981  7208 efficientnet_model.py:147] round_filter input=192 output=344\n",
      "I0225 17:56:14.137789  7208 efficientnet_model.py:147] round_filter input=192 output=344\n",
      "I0225 17:56:14.137789  7208 efficientnet_model.py:147] round_filter input=320 output=576\n",
      "I0225 17:56:14.544832  7208 efficientnet_model.py:147] round_filter input=1280 output=2304\n",
      "I0225 17:56:14.607326  7208 efficientnet_model.py:457] Building model efficientnet with params ModelConfig(width_coefficient=1.8, depth_coefficient=2.6, resolution=528, dropout_rate=0.5, blocks=(BlockConfig(input_filters=32, output_filters=16, kernel_size=3, num_repeat=1, expand_ratio=1, strides=(1, 1), se_ratio=0.25, id_skip=True, fused_conv=False, conv_type='depthwise'), BlockConfig(input_filters=16, output_filters=24, kernel_size=3, num_repeat=2, expand_ratio=6, strides=(2, 2), se_ratio=0.25, id_skip=True, fused_conv=False, conv_type='depthwise'), BlockConfig(input_filters=24, output_filters=40, kernel_size=5, num_repeat=2, expand_ratio=6, strides=(2, 2), se_ratio=0.25, id_skip=True, fused_conv=False, conv_type='depthwise'), BlockConfig(input_filters=40, output_filters=80, kernel_size=3, num_repeat=3, expand_ratio=6, strides=(2, 2), se_ratio=0.25, id_skip=True, fused_conv=False, conv_type='depthwise'), BlockConfig(input_filters=80, output_filters=112, kernel_size=5, num_repeat=3, expand_ratio=6, strides=(1, 1), se_ratio=0.25, id_skip=True, fused_conv=False, conv_type='depthwise'), BlockConfig(input_filters=112, output_filters=192, kernel_size=5, num_repeat=4, expand_ratio=6, strides=(2, 2), se_ratio=0.25, id_skip=True, fused_conv=False, conv_type='depthwise'), BlockConfig(input_filters=192, output_filters=320, kernel_size=3, num_repeat=1, expand_ratio=6, strides=(1, 1), se_ratio=0.25, id_skip=True, fused_conv=False, conv_type='depthwise')), stem_base_filters=32, top_base_filters=1280, activation='simple_swish', batch_norm='default', bn_momentum=0.99, bn_epsilon=0.001, weight_decay=5e-06, drop_connect_rate=0.2, depth_divisor=8, min_depth=None, use_se=True, input_channels=3, num_classes=1000, model_name='efficientnet', rescale_input=False, data_format='channels_last', dtype='float32')\n",
      "I0225 17:56:14.701047  7208 ssd_efficientnet_bifpn_feature_extractor.py:142] EfficientDet EfficientNet backbone version: efficientnet-b7\n",
      "I0225 17:56:14.701047  7208 ssd_efficientnet_bifpn_feature_extractor.py:144] EfficientDet BiFPN num filters: 384\n",
      "I0225 17:56:14.701047  7208 ssd_efficientnet_bifpn_feature_extractor.py:145] EfficientDet BiFPN num iterations: 8\n",
      "I0225 17:56:14.701047  7208 efficientnet_model.py:147] round_filter input=32 output=64\n",
      "I0225 17:56:14.716691  7208 efficientnet_model.py:147] round_filter input=32 output=64\n",
      "I0225 17:56:14.716691  7208 efficientnet_model.py:147] round_filter input=16 output=32\n",
      "I0225 17:56:14.939848  7208 efficientnet_model.py:147] round_filter input=16 output=32\n",
      "I0225 17:56:14.939848  7208 efficientnet_model.py:147] round_filter input=24 output=48\n",
      "I0225 17:56:15.623120  7208 efficientnet_model.py:147] round_filter input=24 output=48\n",
      "I0225 17:56:15.623120  7208 efficientnet_model.py:147] round_filter input=40 output=80\n",
      "I0225 17:56:16.069900  7208 efficientnet_model.py:147] round_filter input=40 output=80\n",
      "I0225 17:56:16.069900  7208 efficientnet_model.py:147] round_filter input=80 output=160\n",
      "I0225 17:56:16.797543  7208 efficientnet_model.py:147] round_filter input=80 output=160\n",
      "I0225 17:56:16.797543  7208 efficientnet_model.py:147] round_filter input=112 output=224\n",
      "I0225 17:56:17.577236  7208 efficientnet_model.py:147] round_filter input=112 output=224\n",
      "I0225 17:56:17.577236  7208 efficientnet_model.py:147] round_filter input=192 output=384\n",
      "I0225 17:56:18.962311  7208 efficientnet_model.py:147] round_filter input=192 output=384\n",
      "I0225 17:56:18.962311  7208 efficientnet_model.py:147] round_filter input=320 output=640\n",
      "I0225 17:56:19.576980  7208 efficientnet_model.py:147] round_filter input=1280 output=2560\n",
      "I0225 17:56:19.632282  7208 efficientnet_model.py:457] Building model efficientnet with params ModelConfig(width_coefficient=2.0, depth_coefficient=3.1, resolution=600, dropout_rate=0.5, blocks=(BlockConfig(input_filters=32, output_filters=16, kernel_size=3, num_repeat=1, expand_ratio=1, strides=(1, 1), se_ratio=0.25, id_skip=True, fused_conv=False, conv_type='depthwise'), BlockConfig(input_filters=16, output_filters=24, kernel_size=3, num_repeat=2, expand_ratio=6, strides=(2, 2), se_ratio=0.25, id_skip=True, fused_conv=False, conv_type='depthwise'), BlockConfig(input_filters=24, output_filters=40, kernel_size=5, num_repeat=2, expand_ratio=6, strides=(2, 2), se_ratio=0.25, id_skip=True, fused_conv=False, conv_type='depthwise'), BlockConfig(input_filters=40, output_filters=80, kernel_size=3, num_repeat=3, expand_ratio=6, strides=(2, 2), se_ratio=0.25, id_skip=True, fused_conv=False, conv_type='depthwise'), BlockConfig(input_filters=80, output_filters=112, kernel_size=5, num_repeat=3, expand_ratio=6, strides=(1, 1), se_ratio=0.25, id_skip=True, fused_conv=False, conv_type='depthwise'), BlockConfig(input_filters=112, output_filters=192, kernel_size=5, num_repeat=4, expand_ratio=6, strides=(2, 2), se_ratio=0.25, id_skip=True, fused_conv=False, conv_type='depthwise'), BlockConfig(input_filters=192, output_filters=320, kernel_size=3, num_repeat=1, expand_ratio=6, strides=(1, 1), se_ratio=0.25, id_skip=True, fused_conv=False, conv_type='depthwise')), stem_base_filters=32, top_base_filters=1280, activation='simple_swish', batch_norm='default', bn_momentum=0.99, bn_epsilon=0.001, weight_decay=5e-06, drop_connect_rate=0.2, depth_divisor=8, min_depth=None, use_se=True, input_channels=3, num_classes=1000, model_name='efficientnet', rescale_input=False, data_format='channels_last', dtype='float32')\n",
      "INFO:tensorflow:time(__main__.ModelBuilderTF2Test.test_create_ssd_models_from_config): 21.35s\n",
      "I0225 17:56:19.741671  7208 test_util.py:2308] time(__main__.ModelBuilderTF2Test.test_create_ssd_models_from_config): 21.35s\n",
      "[       OK ] ModelBuilderTF2Test.test_create_ssd_models_from_config\n",
      "[ RUN      ] ModelBuilderTF2Test.test_invalid_faster_rcnn_batchnorm_update\n",
      "INFO:tensorflow:time(__main__.ModelBuilderTF2Test.test_invalid_faster_rcnn_batchnorm_update): 0.0s\n",
      "I0225 17:56:19.741671  7208 test_util.py:2308] time(__main__.ModelBuilderTF2Test.test_invalid_faster_rcnn_batchnorm_update): 0.0s\n",
      "[       OK ] ModelBuilderTF2Test.test_invalid_faster_rcnn_batchnorm_update\n",
      "[ RUN      ] ModelBuilderTF2Test.test_invalid_first_stage_nms_iou_threshold\n",
      "INFO:tensorflow:time(__main__.ModelBuilderTF2Test.test_invalid_first_stage_nms_iou_threshold): 0.0s\n",
      "I0225 17:56:19.741671  7208 test_util.py:2308] time(__main__.ModelBuilderTF2Test.test_invalid_first_stage_nms_iou_threshold): 0.0s\n",
      "[       OK ] ModelBuilderTF2Test.test_invalid_first_stage_nms_iou_threshold\n",
      "[ RUN      ] ModelBuilderTF2Test.test_invalid_model_config_proto\n",
      "INFO:tensorflow:time(__main__.ModelBuilderTF2Test.test_invalid_model_config_proto): 0.0s\n",
      "I0225 17:56:19.741671  7208 test_util.py:2308] time(__main__.ModelBuilderTF2Test.test_invalid_model_config_proto): 0.0s\n",
      "[       OK ] ModelBuilderTF2Test.test_invalid_model_config_proto\n",
      "[ RUN      ] ModelBuilderTF2Test.test_invalid_second_stage_batch_size\n",
      "INFO:tensorflow:time(__main__.ModelBuilderTF2Test.test_invalid_second_stage_batch_size): 0.0s\n",
      "I0225 17:56:19.741671  7208 test_util.py:2308] time(__main__.ModelBuilderTF2Test.test_invalid_second_stage_batch_size): 0.0s\n",
      "[       OK ] ModelBuilderTF2Test.test_invalid_second_stage_batch_size\n",
      "[ RUN      ] ModelBuilderTF2Test.test_session\n",
      "[  SKIPPED ] ModelBuilderTF2Test.test_session\n",
      "[ RUN      ] ModelBuilderTF2Test.test_unknown_faster_rcnn_feature_extractor\n",
      "INFO:tensorflow:time(__main__.ModelBuilderTF2Test.test_unknown_faster_rcnn_feature_extractor): 0.0s\n",
      "I0225 17:56:19.741671  7208 test_util.py:2308] time(__main__.ModelBuilderTF2Test.test_unknown_faster_rcnn_feature_extractor): 0.0s\n",
      "[       OK ] ModelBuilderTF2Test.test_unknown_faster_rcnn_feature_extractor\n",
      "[ RUN      ] ModelBuilderTF2Test.test_unknown_meta_architecture\n",
      "INFO:tensorflow:time(__main__.ModelBuilderTF2Test.test_unknown_meta_architecture): 0.0s\n",
      "I0225 17:56:19.741671  7208 test_util.py:2308] time(__main__.ModelBuilderTF2Test.test_unknown_meta_architecture): 0.0s\n",
      "[       OK ] ModelBuilderTF2Test.test_unknown_meta_architecture\n",
      "[ RUN      ] ModelBuilderTF2Test.test_unknown_ssd_feature_extractor\n",
      "INFO:tensorflow:time(__main__.ModelBuilderTF2Test.test_unknown_ssd_feature_extractor): 0.0s\n",
      "I0225 17:56:19.741671  7208 test_util.py:2308] time(__main__.ModelBuilderTF2Test.test_unknown_ssd_feature_extractor): 0.0s\n",
      "[       OK ] ModelBuilderTF2Test.test_unknown_ssd_feature_extractor\n",
      "----------------------------------------------------------------------\n",
      "Ran 24 tests in 25.429s\n",
      "\n",
      "OK (skipped=1)\n"
     ]
    }
   ],
   "source": [
    "VERIFICATION_SCRIPT = os.path.join(paths['APIMODEL_PATH'], 'research', 'object_detection', 'builders', 'model_builder_tf2_test.py')\n",
    "#verify installation\n",
    "#look for tests ran with OK as the result\n",
    "!python {VERIFICATION_SCRIPT}"
   ]
  },
  {
   "cell_type": "code",
   "execution_count": null,
   "id": "c3a91ba7",
   "metadata": {},
   "outputs": [],
   "source": [
    "#install tensorflow\n",
    "!pip install tensorflow --upgrade"
   ]
  },
  {
   "cell_type": "code",
   "execution_count": null,
   "id": "64733872",
   "metadata": {},
   "outputs": [],
   "source": [
    "#install matplotlib\n",
    "!pip uninstall protobuf matplotlib -y\n",
    "!pip install protobuf --upgrade"
   ]
  },
  {
   "cell_type": "code",
   "execution_count": null,
   "id": "584d97f6",
   "metadata": {},
   "outputs": [],
   "source": [
    "!pip install matplotlib --upgrade"
   ]
  },
  {
   "cell_type": "code",
   "execution_count": null,
   "id": "5a69b58a",
   "metadata": {},
   "outputs": [],
   "source": [
    "!pip install pyyaml"
   ]
  },
  {
   "cell_type": "code",
   "execution_count": 8,
   "id": "96a77f98",
   "metadata": {},
   "outputs": [],
   "source": [
    "#import object detection - may need to restart the kernal and run scripts to reinitialize variables before installing\n",
    "import object_detection"
   ]
  },
  {
   "cell_type": "code",
   "execution_count": 9,
   "id": "caac1270",
   "metadata": {},
   "outputs": [
    {
     "name": "stdout",
     "output_type": "stream",
     "text": [
      "Package                      Version   Editable project location\n",
      "---------------------------- --------- ---------------------------------------------------------------------------------------\n",
      "absl-py                      1.0.0\n",
      "astunparse                   1.6.3\n",
      "backcall                     0.2.0\n",
      "cachetools                   4.2.4\n",
      "certifi                      2021.10.8\n",
      "charset-normalizer           2.0.9\n",
      "colorama                     0.4.4\n",
      "cycler                       0.11.0\n",
      "Cython                       0.29.26\n",
      "debugpy                      1.5.1\n",
      "decorator                    5.1.0\n",
      "entrypoints                  0.3\n",
      "flatbuffers                  2.0\n",
      "fonttools                    4.28.5\n",
      "gast                         0.4.0\n",
      "gin-config                   0.5.0\n",
      "google-auth                  2.3.3\n",
      "google-auth-oauthlib         0.4.6\n",
      "google-pasta                 0.2.0\n",
      "grpcio                       1.43.0\n",
      "h5py                         3.6.0\n",
      "idna                         3.3\n",
      "importlib-metadata           4.10.0\n",
      "intel_tensorflow             2.7.0\n",
      "ipykernel                    6.6.0\n",
      "ipython                      7.30.1\n",
      "jedi                         0.18.1\n",
      "jupyter-client               7.1.0\n",
      "jupyter-core                 4.9.1\n",
      "keras                        2.7.0"
     ]
    },
    {
     "name": "stderr",
     "output_type": "stream",
     "text": [
      "WARNING: Ignoring invalid distribution -rotobuf (c:\\users\\andwe\\desktop\\per_scholas_coursework\\tri-sense\\venvgesture\\lib\\site-packages)\n",
      "WARNING: Ignoring invalid distribution -rotobuf (c:\\users\\andwe\\desktop\\per_scholas_coursework\\tri-sense\\venvgesture\\lib\\site-packages)\n",
      "WARNING: Ignoring invalid distribution -rotobuf (c:\\users\\andwe\\desktop\\per_scholas_coursework\\tri-sense\\venvgesture\\lib\\site-packages)\n",
      "WARNING: Ignoring invalid distribution -rotobuf (c:\\users\\andwe\\desktop\\per_scholas_coursework\\tri-sense\\venvgesture\\lib\\site-packages)\n",
      "WARNING: You are using pip version 22.0.3; however, version 22.0.4 is available.\n",
      "You should consider upgrading via the 'c:\\users\\andwe\\desktop\\per_scholas_coursework\\tri-sense\\venvgesture\\scripts\\python.exe -m pip install --upgrade pip' command.\n"
     ]
    },
    {
     "name": "stdout",
     "output_type": "stream",
     "text": [
      "\n",
      "Keras-Preprocessing          1.1.2\n",
      "kiwisolver                   1.3.2\n",
      "libclang                     12.0.0\n",
      "lvis                         0.5.3\n",
      "lxml                         4.7.1\n",
      "Markdown                     3.3.6\n",
      "matplotlib                   3.5.1\n",
      "matplotlib-inline            0.1.3\n",
      "nest-asyncio                 1.5.4\n",
      "numpy                        1.21.4\n",
      "oauthlib                     3.1.1\n",
      "object-detection             0.1\n",
      "opencv-python                4.5.4.60\n",
      "opt-einsum                   3.3.0\n",
      "packaging                    21.3\n",
      "pandas                       1.3.5\n",
      "parso                        0.8.3\n",
      "pickleshare                  0.7.5\n",
      "Pillow                       8.4.0\n",
      "pip                          22.0.3\n",
      "prompt-toolkit               3.0.24\n",
      "protobuf                     3.19.4\n",
      "pyasn1                       0.4.8\n",
      "pyasn1-modules               0.2.8\n",
      "pycocotools                  2.0\n",
      "Pygments                     2.10.0\n",
      "pyparsing                    3.0.6\n",
      "PyQt5                        5.15.6\n",
      "PyQt5-Qt5                    5.15.2\n",
      "PyQt5-sip                    12.9.0\n",
      "python-dateutil              2.8.2\n",
      "pytz                         2021.3\n",
      "pywin32                      302\n",
      "PyYAML                       6.0\n",
      "pyzmq                        22.3.0\n",
      "requests                     2.26.0\n",
      "requests-oauthlib            1.3.0\n",
      "rsa                          4.8\n",
      "scipy                        1.8.0rc2\n",
      "setuptools                   49.2.1\n",
      "six                          1.16.0\n",
      "slim                         0.1       c:\\users\\andwe\\desktop\\per_scholas_coursework\\tri-sense\\tensorflow\\models\\research\\slim\n",
      "tensorboard                  2.7.0\n",
      "tensorboard-data-server      0.6.1\n",
      "tensorboard-plugin-wit       1.8.0\n",
      "tensorflow                   2.7.0\n",
      "tensorflow-addons            0.15.0\n",
      "tensorflow-estimator         2.7.0\n",
      "tensorflow-io                0.23.1\n",
      "tensorflow-io-gcs-filesystem 0.23.1\n",
      "termcolor                    1.1.0\n",
      "tf-models-official           2.7.0\n",
      "tf-slim                      1.1.0\n",
      "tornado                      6.1\n",
      "traitlets                    5.1.1\n",
      "typeguard                    2.13.3\n",
      "typing_extensions            4.0.1\n",
      "urllib3                      1.26.7\n",
      "wcwidth                      0.2.5\n",
      "Werkzeug                     2.0.2\n",
      "wget                         3.2\n",
      "wheel                        0.37.1\n",
      "wrapt                        1.13.3\n",
      "zipp                         3.6.0\n"
     ]
    }
   ],
   "source": [
    "!pip list"
   ]
  },
  {
   "cell_type": "code",
   "execution_count": null,
   "id": "30c8d4b7",
   "metadata": {},
   "outputs": [],
   "source": [
    "#optimize for intel CPU usage with Tensorflow as needed (Deticated GPU not available)\n",
    "#needed to install as administrator via local terminal\n",
    "#!pip install intel-tensorflow==2.7.0"
   ]
  },
  {
   "cell_type": "code",
   "execution_count": null,
   "id": "ff15ed82",
   "metadata": {},
   "outputs": [],
   "source": [
    "if os.name == 'posix':\n",
    "    !wget {PRETRAINED_MODEL_URL}\n",
    "    !mv {PRETRAINED_MODEL_NAME + '.tar.gz'} {paths['PRETRAINED_MODEL_PATH']}\n",
    "    !cd {paths['PRETRAINED_MODEL_PATH']} && tar -zxvf {PRETRAINED_MODEL_NAME + '.tar.gz'}\n",
    "if os.name == 'nt':\n",
    "    wget.download(PRETRAINED_MODEL_URL)\n",
    "    !move {PRETRAINED_MODEL_NAME + '.tar.gz'} {paths['PRETRAINED_MODEL_PATH']}\n",
    "    !cd {paths['PRETRAINED_MODEL_PATH']} && tar -zxvf {PRETRAINED_MODEL_NAME + '.tar.gz'}"
   ]
  },
  {
   "cell_type": "markdown",
   "id": "98031f11",
   "metadata": {},
   "source": [
    "# 2. Create Label Map"
   ]
  },
  {
   "cell_type": "code",
   "execution_count": 10,
   "id": "1a255233",
   "metadata": {},
   "outputs": [
    {
     "name": "stdout",
     "output_type": "stream",
     "text": [
      "[{'name': '0', 'id': 1}, {'name': '1', 'id': 2}, {'name': '2', 'id': 3}, {'name': '3', 'id': 4}, {'name': '4', 'id': 5}, {'name': '5', 'id': 6}, {'name': '6', 'id': 7}, {'name': '7', 'id': 8}, {'name': '8', 'id': 9}, {'name': '9', 'id': 10}, {'name': 'a', 'id': 11}, {'name': 'b', 'id': 12}, {'name': 'c', 'id': 13}, {'name': 'd', 'id': 14}, {'name': 'e', 'id': 15}, {'name': 'f', 'id': 16}, {'name': 'g', 'id': 17}, {'name': 'h', 'id': 18}, {'name': 'i', 'id': 19}, {'name': 'j', 'id': 20}, {'name': 'k', 'id': 21}, {'name': 'l', 'id': 22}, {'name': 'm', 'id': 23}, {'name': 'n', 'id': 24}, {'name': 'o', 'id': 25}, {'name': 'p', 'id': 26}, {'name': 'q', 'id': 27}, {'name': 'r', 'id': 28}, {'name': 's', 'id': 29}, {'name': 't', 'id': 30}, {'name': 'u', 'id': 31}, {'name': 'v', 'id': 32}, {'name': 'w', 'id': 33}, {'name': 'x', 'id': 34}, {'name': 'y', 'id': 35}, {'name': 'z', 'id': 36}]\n"
     ]
    }
   ],
   "source": [
    "labels = []\n",
    "counter = 0\n",
    "#chr() 0 - 9 = decimal ascii 48 - 57\n",
    "#chr() a - z = decimal ascii 97 - 122\n",
    "# range() goes up to, but does not include, the second number in the range\n",
    "numbers = [chr(n) for n in range(48, 58)] \n",
    "letters = [chr(l) for l in range(97, 123)] \n",
    "while counter < 36:\n",
    "    if counter < 10:\n",
    "        labels.append({'name': numbers[counter], 'id': counter + 1})\n",
    "    if counter >= 10:\n",
    "        labels.append({'name': letters[counter - 10], 'id': counter + 1})\n",
    "    counter += 1\n",
    "print(labels)\n",
    "with open(files['LABELMAP'], 'w') as f:\n",
    "    for label in labels:\n",
    "        f.write('item {\\n')\n",
    "        f.write('\\tname:\\'{}\\'\\n'.format(label['name']))\n",
    "        f.write('\\tid:{}\\n'.format(label['id']))\n",
    "        f.write('}\\n')"
   ]
  },
  {
   "cell_type": "markdown",
   "id": "75dbffe2",
   "metadata": {},
   "source": [
    "# 3. Create TF records"
   ]
  },
  {
   "cell_type": "code",
   "execution_count": null,
   "id": "43da7670",
   "metadata": {},
   "outputs": [],
   "source": [
    "#if running on the cloud via colab\n",
    "#ARCHIVE_FILES = os.path.join(paths['IMAGE_PATH'], 'archive.tar.gz')\n",
    "#if os.path.exists(ARCHIVE_FILES):\n",
    "#    !tar -zxvf {ARCHIVE_FILES}"
   ]
  },
  {
   "cell_type": "code",
   "execution_count": 10,
   "id": "5a7e4a95",
   "metadata": {},
   "outputs": [
    {
     "name": "stdout",
     "output_type": "stream",
     "text": [
      "True\n"
     ]
    }
   ],
   "source": [
    "# download TensorFlow XML-to-TFRecord converter from official Tensorflow 2 object detection API tutorial: \n",
    "# https://tensorflow-object-detection-api-tutorial.readthedocs.io/en/latest/training.html\n",
    "print(os.path.exists(files['TF_RECORD_SCRIPT']))"
   ]
  },
  {
   "cell_type": "code",
   "execution_count": null,
   "id": "210b4da5",
   "metadata": {},
   "outputs": [],
   "source": [
    "!pip install pytz"
   ]
  },
  {
   "cell_type": "code",
   "execution_count": 28,
   "id": "18f31ca8",
   "metadata": {},
   "outputs": [
    {
     "name": "stdout",
     "output_type": "stream",
     "text": [
      "Successfully created the TFRecord file: Tensorflow\\workspace\\annotations\\train.tfrecord\n",
      "Successfully created the TFRecord file: Tensorflow\\workspace\\annotations\\test.tfrecord\n"
     ]
    }
   ],
   "source": [
    "!python {files['TF_RECORD_SCRIPT']} -x {os.path.join(paths['IMAGE_PATH'], 'train')} -l {files['LABELMAP']} -o {os.path.join(paths['ANNOTATION_PATH'], 'train.record')}\n",
    "!python {files['TF_RECORD_SCRIPT']} -x {os.path.join(paths['IMAGE_PATH'], 'test')} -l {files['LABELMAP']} -o {os.path.join(paths['ANNOTATION_PATH'], 'test.record')}"
   ]
  },
  {
   "cell_type": "markdown",
   "id": "91f4807c",
   "metadata": {},
   "source": [
    "# 4. Copy Model Config to Training Folder"
   ]
  },
  {
   "cell_type": "code",
   "execution_count": null,
   "id": "c0475b72",
   "metadata": {},
   "outputs": [],
   "source": [
    "if os.name == 'posix':\n",
    "    !cp {os.path.join(paths['PRETRAINED_MODEL_PATH'], PRETRAINED_MODEL_NAME, 'pipeline.config')} {os.path.join(paths['CHECKPOINT_PATH'])}\n",
    "if os.name == 'nt':\n",
    "    !copy {os.path.join(paths['PRETRAINED_MODEL_PATH'], PRETRAINED_MODEL_NAME, 'pipeline.config')} {os.path.join(paths['CHECKPOINT_PATH'])}"
   ]
  },
  {
   "cell_type": "markdown",
   "id": "0875d64a",
   "metadata": {},
   "source": [
    "# 5. Update Config for Transfer Learning"
   ]
  },
  {
   "cell_type": "code",
   "execution_count": 11,
   "id": "b07e38bf",
   "metadata": {},
   "outputs": [
    {
     "name": "stdout",
     "output_type": "stream",
     "text": [
      "[PhysicalDevice(name='/physical_device:CPU:0', device_type='CPU')]\n"
     ]
    }
   ],
   "source": [
    "import  tensorflow.compat.v1 as tf\n",
    "from object_detection.utils import config_util\n",
    "from google.protobuf import text_format\n",
    "from object_detection.protos import eval_pb2\n",
    "from object_detection.protos import graph_rewriter_pb2\n",
    "from object_detection.protos import input_reader_pb2\n",
    "from object_detection.protos import model_pb2\n",
    "from object_detection.protos import pipeline_pb2\n",
    "from object_detection.protos import train_pb2\n",
    "print(tf.config.list_physical_devices('CPU'))"
   ]
  },
  {
   "cell_type": "code",
   "execution_count": 12,
   "id": "6040cec6",
   "metadata": {},
   "outputs": [
    {
     "name": "stdout",
     "output_type": "stream",
     "text": [
      "<tensorflow.python.platform.gfile.GFile object at 0x000002430FAA6CA0>\n",
      "Tensorflow\\workspace\\models\\my_mask_resnet\\pipeline.config\n"
     ]
    }
   ],
   "source": [
    "#one way of checking if file exists. Prints as confirmation of the file as an object that exists\n",
    "print(config_util.tf.io.gfile.GFile(files['PIPELINE_CONFIG']))\n",
    "#another way of checking if a file exists. Prints the file path as a string.\n",
    "config_filepath = os.path.join(files['PIPELINE_CONFIG'], 'pipeline.config')\n",
    "if os.path.exists(config_filepath):\n",
    "    print(config_filepath)\n",
    "else:\n",
    "    print('wrong file path')"
   ]
  },
  {
   "cell_type": "code",
   "execution_count": 13,
   "id": "fddfedda",
   "metadata": {
    "scrolled": false
   },
   "outputs": [],
   "source": [
    "# may need to run on local terminal with admin privaleges\n",
    "# run the file directly, not at the folder/directory level\n",
    "config = config_util.get_configs_from_pipeline_file(config_filepath)"
   ]
  },
  {
   "cell_type": "code",
   "execution_count": 14,
   "id": "d90916ce",
   "metadata": {
    "scrolled": true
   },
   "outputs": [
    {
     "data": {
      "text/plain": [
       "{'model': faster_rcnn {\n",
       "   number_of_stages: 3\n",
       "   num_classes: 36\n",
       "   image_resizer {\n",
       "     fixed_shape_resizer {\n",
       "       height: 1024\n",
       "       width: 1024\n",
       "     }\n",
       "   }\n",
       "   feature_extractor {\n",
       "     type: \"faster_rcnn_inception_resnet_v2_keras\"\n",
       "   }\n",
       "   first_stage_anchor_generator {\n",
       "     grid_anchor_generator {\n",
       "       height_stride: 16\n",
       "       width_stride: 16\n",
       "       scales: 0.25\n",
       "       scales: 0.5\n",
       "       scales: 1.0\n",
       "       scales: 2.0\n",
       "       aspect_ratios: 0.5\n",
       "       aspect_ratios: 1.0\n",
       "       aspect_ratios: 2.0\n",
       "     }\n",
       "   }\n",
       "   first_stage_box_predictor_conv_hyperparams {\n",
       "     op: CONV\n",
       "     regularizer {\n",
       "       l2_regularizer {\n",
       "         weight: 0.0\n",
       "       }\n",
       "     }\n",
       "     initializer {\n",
       "       truncated_normal_initializer {\n",
       "         stddev: 0.009999999776482582\n",
       "       }\n",
       "     }\n",
       "   }\n",
       "   first_stage_nms_score_threshold: 0.0\n",
       "   first_stage_nms_iou_threshold: 0.699999988079071\n",
       "   first_stage_max_proposals: 300\n",
       "   first_stage_localization_loss_weight: 2.0\n",
       "   first_stage_objectness_loss_weight: 1.0\n",
       "   initial_crop_size: 17\n",
       "   maxpool_kernel_size: 1\n",
       "   maxpool_stride: 1\n",
       "   second_stage_box_predictor {\n",
       "     mask_rcnn_box_predictor {\n",
       "       fc_hyperparams {\n",
       "         op: FC\n",
       "         regularizer {\n",
       "           l2_regularizer {\n",
       "             weight: 0.0\n",
       "           }\n",
       "         }\n",
       "         initializer {\n",
       "           variance_scaling_initializer {\n",
       "             factor: 1.0\n",
       "             uniform: true\n",
       "             mode: FAN_AVG\n",
       "           }\n",
       "         }\n",
       "       }\n",
       "       use_dropout: false\n",
       "       dropout_keep_probability: 1.0\n",
       "       conv_hyperparams {\n",
       "         op: CONV\n",
       "         regularizer {\n",
       "           l2_regularizer {\n",
       "             weight: 0.0\n",
       "           }\n",
       "         }\n",
       "         initializer {\n",
       "           truncated_normal_initializer {\n",
       "             stddev: 0.009999999776482582\n",
       "           }\n",
       "         }\n",
       "       }\n",
       "       predict_instance_masks: true\n",
       "       mask_prediction_conv_depth: 0\n",
       "       mask_height: 33\n",
       "       mask_width: 33\n",
       "       mask_prediction_num_conv_layers: 4\n",
       "     }\n",
       "   }\n",
       "   second_stage_post_processing {\n",
       "     batch_non_max_suppression {\n",
       "       score_threshold: 0.0\n",
       "       iou_threshold: 0.6000000238418579\n",
       "       max_detections_per_class: 100\n",
       "       max_total_detections: 100\n",
       "     }\n",
       "     score_converter: SOFTMAX\n",
       "   }\n",
       "   second_stage_localization_loss_weight: 2.0\n",
       "   second_stage_classification_loss_weight: 1.0\n",
       "   second_stage_mask_prediction_loss_weight: 4.0\n",
       "   resize_masks: false\n",
       " },\n",
       " 'train_config': batch_size: 2\n",
       " data_augmentation_options {\n",
       "   random_horizontal_flip {\n",
       "   }\n",
       " }\n",
       " optimizer {\n",
       "   momentum_optimizer {\n",
       "     learning_rate {\n",
       "       cosine_decay_learning_rate {\n",
       "         learning_rate_base: 0.00800000037997961\n",
       "         total_steps: 200000\n",
       "         warmup_learning_rate: 0.0\n",
       "         warmup_steps: 5000\n",
       "       }\n",
       "     }\n",
       "     momentum_optimizer_value: 0.8999999761581421\n",
       "   }\n",
       "   use_moving_average: false\n",
       " }\n",
       " gradient_clipping_by_norm: 10.0\n",
       " fine_tune_checkpoint: \"Tensorflow\\\\workspace\\\\pre-trained-models\\\\mask_rcnn_inception_resnet_v2_1024x1024_coco17_gpu-8\\\\checkpoint\\\\ckpt-0\"\n",
       " num_steps: 200000\n",
       " fine_tune_checkpoint_version: V2,\n",
       " 'train_input_config': load_instance_masks: true\n",
       " tf_record_input_reader {\n",
       "   input_path: \"Tensorflow\\\\workspace\\\\annotations\\\\train.record\"\n",
       " }\n",
       " mask_type: PNG_MASKS,\n",
       " 'eval_config': metrics_set: \"coco_detection_metrics\"\n",
       " metrics_set: \"coco_mask_metrics\"\n",
       " use_moving_averages: false\n",
       " eval_instance_masks: true\n",
       " include_metrics_per_category: true\n",
       " batch_size: 2,\n",
       " 'eval_input_configs': [label_map_path: \"Tensorflow\\\\workspace\\\\annotations\\\\label_map.pbtxt\"\n",
       " shuffle: false\n",
       " num_epochs: 11\n",
       " load_instance_masks: true\n",
       " tf_record_input_reader {\n",
       "   input_path: \"Tensorflow\\\\workspace\\\\annotations\\\\test.record\"\n",
       " }\n",
       " mask_type: PNG_MASKS\n",
       " ],\n",
       " 'eval_input_config': label_map_path: \"Tensorflow\\\\workspace\\\\annotations\\\\label_map.pbtxt\"\n",
       " shuffle: false\n",
       " num_epochs: 11\n",
       " load_instance_masks: true\n",
       " tf_record_input_reader {\n",
       "   input_path: \"Tensorflow\\\\workspace\\\\annotations\\\\test.record\"\n",
       " }\n",
       " mask_type: PNG_MASKS}"
      ]
     },
     "execution_count": 14,
     "metadata": {},
     "output_type": "execute_result"
    }
   ],
   "source": [
    "# may need to run on local terminal with admin privaleges\n",
    "config"
   ]
  },
  {
   "cell_type": "code",
   "execution_count": 16,
   "id": "afb08a66",
   "metadata": {},
   "outputs": [],
   "source": [
    "# may need to run on local terminal with admin privaleges\n",
    "pipeline_config = pipeline_pb2.TrainEvalPipelineConfig()\n",
    "with tf.io.gfile.GFile(config_filepath, \"r\") as f:\n",
    "    proto_str = f.read()\n",
    "    text_format.Merge(proto_str, pipeline_config)"
   ]
  },
  {
   "cell_type": "code",
   "execution_count": 17,
   "id": "89c52af2",
   "metadata": {},
   "outputs": [
    {
     "ename": "AttributeError",
     "evalue": "'google.protobuf.pyext._message.RepeatedCompositeContainer' object has no attribute 'label_map_path'",
     "output_type": "error",
     "traceback": [
      "\u001b[1;31m---------------------------------------------------------------------------\u001b[0m",
      "\u001b[1;31mAttributeError\u001b[0m                            Traceback (most recent call last)",
      "\u001b[1;32m~\\AppData\\Local\\Temp/ipykernel_13552/2644816127.py\u001b[0m in \u001b[0;36m<module>\u001b[1;34m\u001b[0m\n\u001b[0;32m      4\u001b[0m \u001b[0mpipeline_config\u001b[0m\u001b[1;33m.\u001b[0m\u001b[0mtrain_config\u001b[0m\u001b[1;33m.\u001b[0m\u001b[0mfine_tune_checkpoint\u001b[0m \u001b[1;33m=\u001b[0m \u001b[0mos\u001b[0m\u001b[1;33m.\u001b[0m\u001b[0mpath\u001b[0m\u001b[1;33m.\u001b[0m\u001b[0mjoin\u001b[0m\u001b[1;33m(\u001b[0m\u001b[0mpaths\u001b[0m\u001b[1;33m[\u001b[0m\u001b[1;34m'PRETRAINED_MODEL_PATH'\u001b[0m\u001b[1;33m]\u001b[0m\u001b[1;33m,\u001b[0m \u001b[0mPRETRAINED_MODEL_NAME\u001b[0m\u001b[1;33m,\u001b[0m \u001b[1;34m'checkpoint'\u001b[0m\u001b[1;33m,\u001b[0m \u001b[1;34m'ckpt-0'\u001b[0m\u001b[1;33m)\u001b[0m\u001b[1;33m\u001b[0m\u001b[1;33m\u001b[0m\u001b[0m\n\u001b[0;32m      5\u001b[0m \u001b[0mpipeline_config\u001b[0m\u001b[1;33m.\u001b[0m\u001b[0mtrain_input_reader\u001b[0m\u001b[1;33m.\u001b[0m\u001b[0mtf_record_input_reader\u001b[0m\u001b[1;33m.\u001b[0m\u001b[0minput_path\u001b[0m\u001b[1;33m[\u001b[0m\u001b[1;33m:\u001b[0m\u001b[1;33m]\u001b[0m \u001b[1;33m=\u001b[0m \u001b[1;33m[\u001b[0m\u001b[0mos\u001b[0m\u001b[1;33m.\u001b[0m\u001b[0mpath\u001b[0m\u001b[1;33m.\u001b[0m\u001b[0mjoin\u001b[0m\u001b[1;33m(\u001b[0m\u001b[0mpaths\u001b[0m\u001b[1;33m[\u001b[0m\u001b[1;34m'ANNOTATION_PATH'\u001b[0m\u001b[1;33m]\u001b[0m\u001b[1;33m,\u001b[0m \u001b[1;34m'train.record'\u001b[0m\u001b[1;33m)\u001b[0m\u001b[1;33m]\u001b[0m\u001b[1;33m\u001b[0m\u001b[1;33m\u001b[0m\u001b[0m\n\u001b[1;32m----> 6\u001b[1;33m \u001b[0mpipeline_config\u001b[0m\u001b[1;33m.\u001b[0m\u001b[0meval_input_reader\u001b[0m\u001b[1;33m.\u001b[0m\u001b[0mlabel_map_path\u001b[0m \u001b[1;33m=\u001b[0m \u001b[0mfiles\u001b[0m\u001b[1;33m[\u001b[0m\u001b[1;34m'LABELMAP'\u001b[0m\u001b[1;33m]\u001b[0m\u001b[1;33m\u001b[0m\u001b[1;33m\u001b[0m\u001b[0m\n\u001b[0m\u001b[0;32m      7\u001b[0m \u001b[0mpipeline_config\u001b[0m\u001b[1;33m.\u001b[0m\u001b[0meval_input_reader\u001b[0m\u001b[1;33m.\u001b[0m\u001b[0mtf_record_input_reader\u001b[0m\u001b[1;33m.\u001b[0m\u001b[0minput_path\u001b[0m\u001b[1;33m[\u001b[0m\u001b[1;33m:\u001b[0m\u001b[1;33m]\u001b[0m \u001b[1;33m=\u001b[0m \u001b[1;33m[\u001b[0m\u001b[0mos\u001b[0m\u001b[1;33m.\u001b[0m\u001b[0mpath\u001b[0m\u001b[1;33m.\u001b[0m\u001b[0mjoin\u001b[0m\u001b[1;33m(\u001b[0m\u001b[0mpaths\u001b[0m\u001b[1;33m[\u001b[0m\u001b[1;34m'ANNOTATION_PATH'\u001b[0m\u001b[1;33m]\u001b[0m\u001b[1;33m,\u001b[0m \u001b[1;34m'test.record'\u001b[0m\u001b[1;33m)\u001b[0m\u001b[1;33m]\u001b[0m\u001b[1;33m\u001b[0m\u001b[1;33m\u001b[0m\u001b[0m\n",
      "\u001b[1;31mAttributeError\u001b[0m: 'google.protobuf.pyext._message.RepeatedCompositeContainer' object has no attribute 'label_map_path'"
     ]
    }
   ],
   "source": [
    "# may need to run on local terminal with admin privaleges\n",
    "pipeline_config.model.faster_rcnn.num_classes = len(labels)\n",
    "pipeline_config.train_config.batch_size = 4\n",
    "pipeline_config.train_config.fine_tune_checkpoint = os.path.join(paths['PRETRAINED_MODEL_PATH'], PRETRAINED_MODEL_NAME, 'checkpoint', 'ckpt-0')\n",
    "pipeline_config.train_input_reader.tf_record_input_reader.input_path[:] = [os.path.join(paths['ANNOTATION_PATH'], 'train.record')]\n",
    "pipeline_config.eval_input_reader.label_map_path = files['LABELMAP']\n",
    "pipeline_config.eval_input_reader.tf_record_input_reader.input_path[:] = [os.path.join(paths['ANNOTATION_PATH'], 'test.record')]"
   ]
  },
  {
   "cell_type": "code",
   "execution_count": null,
   "id": "2944b184",
   "metadata": {},
   "outputs": [],
   "source": [
    "config_text = text_format.MessageToString(pipeline_config)\n",
    "with tf.io.gfile.GFile(config_filepath, \"wb\") as f:\n",
    "    f.write(config_text)"
   ]
  },
  {
   "cell_type": "markdown",
   "id": "eabd7bc0",
   "metadata": {},
   "source": [
    "# 6. Train the Model"
   ]
  },
  {
   "cell_type": "code",
   "execution_count": 15,
   "id": "a7d6c67b",
   "metadata": {},
   "outputs": [],
   "source": [
    "TRAINING_SCRIPT = os.path.join(paths['APIMODEL_PATH'], 'research', 'object_detection', 'model_main_tf2.py')"
   ]
  },
  {
   "cell_type": "code",
   "execution_count": 16,
   "id": "19575413",
   "metadata": {},
   "outputs": [],
   "source": [
    "command = \"python {} --model_dir={} --pipeline_config_path={} --num_train_steps=2000\".format(TRAINING_SCRIPT, paths['CHECKPOINT_PATH'], config_filepath, paths['CHECKPOINT_PATH'])"
   ]
  },
  {
   "cell_type": "code",
   "execution_count": 17,
   "id": "cd232b20",
   "metadata": {},
   "outputs": [
    {
     "name": "stdout",
     "output_type": "stream",
     "text": [
      "python Tensorflow\\models\\research\\object_detection\\model_main_tf2.py --model_dir=Tensorflow\\workspace\\models\\my_mask_resnet --pipeline_config_path=Tensorflow\\workspace\\models\\my_mask_resnet\\pipeline.config --num_train_steps=2000\n"
     ]
    }
   ],
   "source": [
    "print(command)"
   ]
  },
  {
   "cell_type": "code",
   "execution_count": null,
   "id": "6f7a9faf",
   "metadata": {},
   "outputs": [],
   "source": [
    "# visual studio build tools for windows needed to compile c++ code which is necessary to install cocoapi/pycocotools - https://visualstudio.microsoft.com/downloads/?q=build+tools#build-tools-for-visual-studio-2022\n",
    "# to insall pycocotools - !pip install git+https://github.com/philferriere/cocoapi.git#subdirectory=PythonAPI"
   ]
  },
  {
   "cell_type": "code",
   "execution_count": null,
   "id": "6191f553",
   "metadata": {},
   "outputs": [],
   "source": [
    "!pip install gin-config"
   ]
  },
  {
   "cell_type": "code",
   "execution_count": null,
   "id": "cfbff3ea",
   "metadata": {},
   "outputs": [],
   "source": [
    "!pip install tensorflow-addons"
   ]
  },
  {
   "cell_type": "code",
   "execution_count": null,
   "id": "aae1d14b",
   "metadata": {},
   "outputs": [],
   "source": [
    "#originally ran through usage of command promt to see the training done live\n",
    "!{command}"
   ]
  },
  {
   "cell_type": "code",
   "execution_count": null,
   "id": "bf831711",
   "metadata": {},
   "outputs": [],
   "source": []
  }
 ],
 "metadata": {
  "kernelspec": {
   "display_name": "venvgesture",
   "language": "python",
   "name": "venvgesture"
  },
  "language_info": {
   "codemirror_mode": {
    "name": "ipython",
    "version": 3
   },
   "file_extension": ".py",
   "mimetype": "text/x-python",
   "name": "python",
   "nbconvert_exporter": "python",
   "pygments_lexer": "ipython3",
   "version": "3.9.0"
  }
 },
 "nbformat": 4,
 "nbformat_minor": 5
}
